{
 "cells": [
  {
   "cell_type": "code",
   "execution_count": 1,
   "id": "23710b80",
   "metadata": {},
   "outputs": [],
   "source": [
    "import numpy as np\n",
    "import matplotlib.pyplot as plt"
   ]
  },
  {
   "cell_type": "code",
   "execution_count": 5,
   "id": "7635642b",
   "metadata": {},
   "outputs": [
    {
     "name": "stdout",
     "output_type": "stream",
     "text": [
      "Remaing mints: 8398\n",
      "Flat PDF:\n"
     ]
    },
    {
     "data": {
      "image/png": "[encoded data removed]",
      "text/plain": [
       "<Figure size 432x288 with 1 Axes>"
      ]
     },
     "metadata": {
      "needs_background": "light"
     },
     "output_type": "display_data"
    },
    {
     "name": "stdout",
     "output_type": "stream",
     "text": [
      "PDF according to code\n"
     ]
    },
    {
     "data": {
      "image/png": "[encoded data removed]",
      "text/plain": [
       "<Figure size 432x288 with 1 Axes>"
      ]
     },
     "metadata": {
      "needs_background": "light"
     },
     "output_type": "display_data"
    }
   ],
   "source": [
    "# ChainlinkVRF seed\n",
    "seed = np.round((np.random.rand()*2**64))\n",
    "# swap ids\n",
    "sids = np.arange(10000)+1\n",
    "# shuffle them randomly\n",
    "np.random.shuffle(sids)\n",
    "# drop a bunch (already minted ones). Atleast 1 remains\n",
    "remaining = int(np.random.rand()*9999)+1\n",
    "sids = sids[0:remaining]\n",
    "\n",
    "prod = (sids * seed)%10000 \n",
    "print(f\"Remaing mints: {remaining}\")\n",
    "print(\"Flat PDF:\")\n",
    "plt.hist(prod,bins=4)\n",
    "plt.show()\n",
    "print(\"PDF according to code\")\n",
    "plt.hist(prod,bins=[0,3055,5673,7964,10000])\n",
    "plt.show()"
   ]
  }
 ],
 "metadata": {
  "kernelspec": {
   "display_name": "Python 3.9.13 64-bit",
   "language": "python",
   "name": "python3"
  },
  "language_info": {
   "codemirror_mode": {
    "name": "ipython",
    "version": 3
   },
   "file_extension": ".py",
   "mimetype": "text/x-python",
   "name": "python",
   "nbconvert_exporter": "python",
   "pygments_lexer": "ipython3",
   "version": "3.9.13"
  },
  "vscode": {
   "interpreter": {
    "hash": "31f2aee4e71d21fbe5cf8b01ff0e069b9275f58929596ceb00d14d90e3e16cd6"
   }
  }
 },
 "nbformat": 4,
 "nbformat_minor": 5
}
